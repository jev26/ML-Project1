{
 "cells": [
  {
   "cell_type": "markdown",
   "metadata": {},
   "source": [
    "## Notebook for learning best hyperparameters"
   ]
  },
  {
   "cell_type": "code",
   "execution_count": 1,
   "metadata": {},
   "outputs": [],
   "source": [
    "from proj1_helpers import *\n",
    "import matplotlib.pyplot as plt\n",
    "import numpy as np\n",
    "from implementation import *\n",
    "from Visualization import *\n",
    "from data_preproc import preprocessing\n",
    "from features_func import generate_features\n",
    "from Learning import learning"
   ]
  },
  {
   "cell_type": "code",
   "execution_count": 2,
   "metadata": {},
   "outputs": [],
   "source": [
    "train_path = 'data/train.csv'\n",
    "y, tX, ids = load_csv_data(train_path, sub_sample=False)\n",
    "nSample_tr, nFeature_tr = tX.shape\n",
    "\n",
    "test_path = 'data/test.csv'\n",
    "_, tX_te, ids_te = load_csv_data(test_path, sub_sample=False)\n",
    "y_te = np.zeros((tX_te.shape[0],))\n",
    "nSample_te, nFeature_te = tX.shape\n",
    "\n",
    "complete_tX = np.vstack((tX,tX_te))\n",
    "complete_y = np.append(y,y_te)\n",
    "complete_ids = np.append(ids,ids_te)\n",
    "\n",
    "model0, model1, model2 = preprocessing(complete_tX,complete_y,complete_ids)\n",
    "\n",
    "all_model = [model0, model1, model2]\n",
    "\n",
    "\n",
    "lambda_ = [np.logspace(-4.6, -4.2, 5), np.logspace(-4.6, -4.2, 5), np.logspace(-4.1, -3.8, 3)]\n",
    "degree = 2\n",
    "\n",
    "y_final = []\n",
    "ids_final = []\n"
   ]
  },
  {
   "cell_type": "code",
   "execution_count": 3,
   "metadata": {
    "scrolled": false
   },
   "outputs": [
    {
     "name": "stdout",
     "output_type": "stream",
     "text": [
      "(99913, 16)\n",
      "(99913,)\n",
      "(227458, 16)\n",
      "(227458,)\n",
      "Generating features\n",
      "Shape of new features (99913, 2926)\n",
      "start learning\n",
      "tX inside CV (99913, 2926)\n",
      "learning done\n"
     ]
    }
   ],
   "source": [
    "i = 0\n",
    "\n",
    "model_i = all_model[i]\n",
    "\n",
    "print(model_i['tX_tr'].shape)\n",
    "print(model_i['y_tr'].shape)\n",
    "print(model_i['tX_te'].shape)\n",
    "print(model_i['te_id'].shape)\n",
    "\n",
    "nSample, nFeature = model_i['tX_tr'].shape\n",
    "#oneHistogram(range(0, nFeature), model_i['tX_tr'], model_i['y_tr'])\n",
    "\n",
    "print('Generating features')\n",
    "tX_newfeat = generate_features(model_i['tX_tr'], degree)\n",
    "print('Shape of new features', tX_newfeat.shape)\n",
    "\n",
    "print('start learning')\n",
    "best_parameter, losses_tr, losses_te, best_loss, std_te, accuracy_mean, accuracy_std = learning(tX_newfeat, model_i['y_tr'], lambda_[i]) #ou model_i['best_param']\n",
    "model_i.update({'best_param': best_parameter})\n",
    "print('learning done')"
   ]
  },
  {
   "cell_type": "code",
   "execution_count": 4,
   "metadata": {},
   "outputs": [
    {
     "name": "stdout",
     "output_type": "stream",
     "text": [
      "3.414548873833601e-05\n"
     ]
    }
   ],
   "source": [
    "print(model_i['best_param'])"
   ]
  },
  {
   "cell_type": "code",
   "execution_count": 5,
   "metadata": {},
   "outputs": [
    {
     "name": "stdout",
     "output_type": "stream",
     "text": [
      "(77544, 18)\n",
      "(77544,)\n",
      "(175338, 18)\n",
      "(175338,)\n",
      "Generating features\n",
      "Shape of new features (77544, 4186)\n",
      "start learning\n",
      "tX inside CV (77544, 4186)\n",
      "learning done\n"
     ]
    }
   ],
   "source": [
    "i = 1\n",
    "\n",
    "model_i = all_model[i]\n",
    "\n",
    "print(model_i['tX_tr'].shape)\n",
    "print(model_i['y_tr'].shape)\n",
    "print(model_i['tX_te'].shape)\n",
    "print(model_i['te_id'].shape)\n",
    "\n",
    "nSample, nFeature = model_i['tX_tr'].shape\n",
    "#oneHistogram(range(0, nFeature), model_i['tX_tr'], model_i['y_tr'])\n",
    "\n",
    "print('Generating features')\n",
    "tX_newfeat = generate_features(model_i['tX_tr'], degree)\n",
    "print('Shape of new features', tX_newfeat.shape)\n",
    "\n",
    "print('start learning')\n",
    "best_parameter, losses_tr, losses_te, best_loss, std_te, accuracy_mean, accuracy_std = learning(tX_newfeat, model_i['y_tr'], lambda_[i]) #ou model_i['best_param']\n",
    "model_i.update({'best_param': best_parameter})\n",
    "print('learning done')"
   ]
  },
  {
   "cell_type": "code",
   "execution_count": 6,
   "metadata": {},
   "outputs": [
    {
     "name": "stdout",
     "output_type": "stream",
     "text": [
      "3.082399239745143e-05\n"
     ]
    }
   ],
   "source": [
    "print(model_i['best_param'])"
   ]
  },
  {
   "cell_type": "code",
   "execution_count": null,
   "metadata": {},
   "outputs": [
    {
     "name": "stdout",
     "output_type": "stream",
     "text": [
      "(72543, 24)\n",
      "(72543,)\n",
      "(165442, 24)\n",
      "(165442,)\n",
      "Generating features\n",
      "Shape of new features (72543, 7381)\n",
      "start learning\n",
      "tX inside CV (72543, 7381)\n"
     ]
    }
   ],
   "source": [
    "i = 2\n",
    "\n",
    "model_i = all_model[i]\n",
    "\n",
    "print(model_i['tX_tr'].shape)\n",
    "print(model_i['y_tr'].shape)\n",
    "print(model_i['tX_te'].shape)\n",
    "print(model_i['te_id'].shape)\n",
    "\n",
    "nSample, nFeature = model_i['tX_tr'].shape\n",
    "#oneHistogram(range(0, nFeature), model_i['tX_tr'], model_i['y_tr'])\n",
    "\n",
    "print('Generating features')\n",
    "tX_newfeat = generate_features(model_i['tX_tr'], degree)\n",
    "print('Shape of new features', tX_newfeat.shape)\n",
    "\n",
    "print('start learning')\n",
    "best_parameter, losses_tr, losses_te, best_loss, std_te, accuracy_mean, accuracy_std = learning(tX_newfeat, model_i['y_tr'], lambda_[i]) #ou model_i['best_param']\n",
    "model_i.update({'best_param': best_parameter})\n",
    "print('learning done')"
   ]
  },
  {
   "cell_type": "code",
   "execution_count": null,
   "metadata": {},
   "outputs": [],
   "source": [
    "print(model_i['best_param'])"
   ]
  },
  {
   "cell_type": "code",
   "execution_count": null,
   "metadata": {
    "scrolled": true
   },
   "outputs": [],
   "source": [
    "# print best parameter for each model\n",
    "for model_i in all_model:\n",
    "    print(model_i['best_param'])"
   ]
  },
  {
   "cell_type": "code",
   "execution_count": null,
   "metadata": {},
   "outputs": [],
   "source": []
  }
 ],
 "metadata": {
  "kernelspec": {
   "display_name": "Python [default]",
   "language": "python",
   "name": "python3"
  },
  "language_info": {
   "codemirror_mode": {
    "name": "ipython",
    "version": 3
   },
   "file_extension": ".py",
   "mimetype": "text/x-python",
   "name": "python",
   "nbconvert_exporter": "python",
   "pygments_lexer": "ipython3",
   "version": "3.7.0"
  }
 },
 "nbformat": 4,
 "nbformat_minor": 2
}
