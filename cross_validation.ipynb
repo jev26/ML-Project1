{
 "cells": [
  {
   "cell_type": "markdown",
   "metadata": {},
   "source": [
    "## Notebook used for cross validating our model"
   ]
  },
  {
   "cell_type": "code",
   "execution_count": 1,
   "metadata": {},
   "outputs": [],
   "source": [
    "from proj1_helpers import *\n",
    "import matplotlib.pyplot as plt\n",
    "import numpy as np\n",
    "from implementation import *\n",
    "from Visualization import *\n",
    "from data_preproc import preprocessing\n",
    "from features_func import generate_features\n",
    "from Learning import learning\n",
    "from crossval import *"
   ]
  },
  {
   "cell_type": "code",
   "execution_count": 2,
   "metadata": {},
   "outputs": [],
   "source": [
    "train_path = 'data/train.csv'\n",
    "y, tX, ids = load_csv_data(train_path, sub_sample=False)\n",
    "nSample_tr, nFeature_tr = tX.shape\n",
    "\n",
    "test_path = 'data/test.csv'\n",
    "_, tX_te, ids_te = load_csv_data(test_path, sub_sample=False)\n",
    "y_te = np.zeros((tX_te.shape[0],))\n",
    "nSample_te, nFeature_te = tX.shape\n",
    "\n",
    "complete_tX = np.vstack((tX,tX_te))\n",
    "complete_y = np.append(y,y_te)\n",
    "complete_ids = np.append(ids,ids_te)"
   ]
  },
  {
   "cell_type": "code",
   "execution_count": 3,
   "metadata": {},
   "outputs": [],
   "source": [
    "model0, model1, model2 = preprocessing(complete_tX,complete_y,complete_ids)\n",
    "\n",
    "all_model = [model0, model1, model2]"
   ]
  },
  {
   "cell_type": "code",
   "execution_count": 4,
   "metadata": {},
   "outputs": [
    {
     "name": "stdout",
     "output_type": "stream",
     "text": [
      "(175338, 18)\n"
     ]
    }
   ],
   "source": [
    "print(model1['tX_te'].shape)"
   ]
  },
  {
   "cell_type": "code",
   "execution_count": 5,
   "metadata": {
    "scrolled": false
   },
   "outputs": [
    {
     "name": "stdout",
     "output_type": "stream",
     "text": [
      "(99913, 16)\n",
      "(99913,)\n",
      "(227458, 16)\n",
      "(227458,)\n",
      "ridge regression\n",
      "ids_final shape\n",
      "(227458,)\n",
      "y_final shape\n",
      "(227458,)\n",
      "Ridge inside cross val started\n",
      "Ridge inside cross val started\n",
      "Ridge inside cross val started\n",
      "Ridge inside cross val started\n",
      "(77544, 18)\n",
      "(77544,)\n",
      "(175338, 18)\n",
      "(175338,)\n",
      "ridge regression\n",
      "ids_final shape\n",
      "(402796,)\n",
      "y_final shape\n",
      "(402796,)\n",
      "Ridge inside cross val started\n",
      "Ridge inside cross val started\n",
      "Ridge inside cross val started\n",
      "Ridge inside cross val started\n",
      "(72543, 24)\n",
      "(72543,)\n",
      "(165442, 24)\n",
      "(165442,)\n",
      "ridge regression\n",
      "ids_final shape\n",
      "(568238,)\n",
      "y_final shape\n",
      "(568238,)\n",
      "Ridge inside cross val started\n",
      "Ridge inside cross val started\n",
      "Ridge inside cross val started\n",
      "Ridge inside cross val started\n"
     ]
    },
    {
     "data": {
      "text/plain": [
       "[array([84.21410842]),\n",
       " array([84.23412603]),\n",
       " array([84.91072143]),\n",
       " array([85.15493634]),\n",
       " array([79.94944806]),\n",
       " array([80.2537914]),\n",
       " array([80.8057361]),\n",
       " array([80.06293201]),\n",
       " array([82.76261373]),\n",
       " array([82.61924455]),\n",
       " array([82.77915633]),\n",
       " array([82.99972429])]"
      ]
     },
     "execution_count": 5,
     "metadata": {},
     "output_type": "execute_result"
    }
   ],
   "source": [
    "best_param = [3.5938136638046256e-05,3.5938136638046256e-05,0.0001]\n",
    "degree = 2\n",
    "\n",
    "y_final = []\n",
    "ids_final = []\n",
    "\n",
    "f_scores = []\n",
    "\n",
    "for i, model_i in enumerate(all_model):\n",
    "    print(model_i['tX_tr'].shape)\n",
    "    print(model_i['y_tr'].shape)\n",
    "    print(model_i['tX_te'].shape)\n",
    "    print(model_i['te_id'].shape)\n",
    "\n",
    "    scores = []\n",
    "    nSample, nFeature = model_i['tX_tr'].shape\n",
    "\n",
    "    print('ridge regression')\n",
    "    tX_newfeat = generate_features(model_i['tX_tr'], degree)\n",
    "    w,_ = ridge_regression(model_i['y_tr'], tX_newfeat, best_param[i])\n",
    "    \n",
    "    pred = predict_labels(w, generate_features(model_i['tX_te'], degree))\n",
    "    ids_final = np.append(ids_final, model_i['te_id'])\n",
    "    y_final = np.append(y_final, pred)\n",
    "    print('ids_final shape')\n",
    "    print(ids_final.shape)\n",
    "    print('y_final shape')\n",
    "    print(y_final.shape)\n",
    "    \n",
    "    \n",
    "    seed = 1\n",
    "    k_fold = 4\n",
    "\n",
    "    # split data in k fold\n",
    "    k_indices = build_k_indices(model_i['y_tr'], k_fold, seed)\n",
    "    for k in range(k_fold):\n",
    "        _,_,score = cross_validation(model_i['y_tr'], tX_newfeat, k_indices, k, best_param[i])\n",
    "        score *= 100\n",
    "        f_scores.append(score)\n",
    "        \n",
    "\n",
    "    \n",
    "    \n",
    "f_scores"
   ]
  },
  {
   "cell_type": "markdown",
   "metadata": {},
   "source": [
    "f_scores represent the accuracy for each pass"
   ]
  },
  {
   "cell_type": "code",
   "execution_count": 6,
   "metadata": {},
   "outputs": [
    {
     "name": "stdout",
     "output_type": "stream",
     "text": [
      "(568238,)\n"
     ]
    }
   ],
   "source": [
    "print(y_final.shape)"
   ]
  },
  {
   "cell_type": "code",
   "execution_count": 7,
   "metadata": {},
   "outputs": [],
   "source": [
    "create_csv_submission(ids_final, y_final, \"final_submission.csv\")"
   ]
  },
  {
   "cell_type": "code",
   "execution_count": null,
   "metadata": {},
   "outputs": [],
   "source": []
  }
 ],
 "metadata": {
  "kernelspec": {
   "display_name": "Python [default]",
   "language": "python",
   "name": "python3"
  },
  "language_info": {
   "codemirror_mode": {
    "name": "ipython",
    "version": 3
   },
   "file_extension": ".py",
   "mimetype": "text/x-python",
   "name": "python",
   "nbconvert_exporter": "python",
   "pygments_lexer": "ipython3",
   "version": "3.7.0"
  }
 },
 "nbformat": 4,
 "nbformat_minor": 2
}
