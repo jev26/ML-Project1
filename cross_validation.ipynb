{
 "cells": [
  {
   "cell_type": "code",
   "execution_count": 1,
   "metadata": {},
   "outputs": [],
   "source": [
    "from proj1_helpers import *\n",
    "import matplotlib.pyplot as plt\n",
    "import numpy as np\n",
    "from implementation import *\n",
    "from Visualization import *\n",
    "from data_preproc import preprocessing\n",
    "from features_func import generate_features\n",
    "from Learning import learning"
   ]
  },
  {
   "cell_type": "code",
   "execution_count": 2,
   "metadata": {},
   "outputs": [],
   "source": [
    "train_path = 'data/train.csv'\n",
    "y, tX, ids = load_csv_data(train_path, sub_sample=False)\n",
    "nSample_tr, nFeature_tr = tX.shape\n",
    "\n",
    "test_path = 'data/test.csv'\n",
    "_, tX_te, ids_te = load_csv_data(test_path, sub_sample=False)\n",
    "y_te = np.zeros((tX_te.shape[0],))\n",
    "nSample_te, nFeature_te = tX.shape\n",
    "\n",
    "complete_tX = np.vstack((tX,tX_te))\n",
    "complete_y = np.append(y,y_te)\n",
    "complete_ids = np.append(ids,ids_te)"
   ]
  },
  {
   "cell_type": "code",
   "execution_count": 3,
   "metadata": {},
   "outputs": [],
   "source": [
    "model0, model1, model2 = preprocessing(complete_tX,complete_y,complete_ids)\n",
    "\n",
    "all_model = [model0, model1, model2]"
   ]
  },
  {
   "cell_type": "code",
   "execution_count": 4,
   "metadata": {
    "scrolled": true
   },
   "outputs": [
    {
     "ename": "IndentationError",
     "evalue": "expected an indented block (<ipython-input-4-cf59eccad52f>, line 50)",
     "output_type": "error",
     "traceback": [
      "\u001b[1;36m  File \u001b[1;32m\"<ipython-input-4-cf59eccad52f>\"\u001b[1;36m, line \u001b[1;32m50\u001b[0m\n\u001b[1;33m    _,_,accuracy = cross_validation(y, tX_newfeat, k_indices, k, best_param[i])\u001b[0m\n\u001b[1;37m    ^\u001b[0m\n\u001b[1;31mIndentationError\u001b[0m\u001b[1;31m:\u001b[0m expected an indented block\n"
     ]
    }
   ],
   "source": [
    "degree = 2\n",
    "\n",
    "y_final = []\n",
    "ids_final = []\n",
    "\n",
    "train_path = 'data/train.csv'\n",
    "y, tX, ids = load_csv_data(train_path, sub_sample=False)\n",
    "nSample_tr, nFeature_tr = tX.shape\n",
    "\n",
    "test_path = 'data/test.csv'\n",
    "_, tX_te, ids_te = load_csv_data(test_path, sub_sample=False)\n",
    "y_te = np.zeros((tX_te.shape[0],))\n",
    "nSample_te, nFeature_te = tX.shape\n",
    "\n",
    "complete_tX = np.vstack((tX,tX_te))\n",
    "complete_y = np.append(y,y_te)\n",
    "complete_ids = np.append(ids,ids_te)\n",
    "\n",
    "model0, model1, model2 = preprocessing(complete_tX,complete_y,complete_ids)\n",
    "\n",
    "all_model = [model0, model1, model2]\n",
    "\n",
    "best_param = [0.0001,0.0001,0.0001]\n",
    "degree = 2\n",
    "\n",
    "y_final = []\n",
    "ids_final = []\n",
    "\n",
    "f_scores = []\n",
    "\n",
    "for i, model_i in enumerate(all_model):\n",
    "    print(model_i['tX_tr'].shape)\n",
    "    print(model_i['y_tr'].shape)\n",
    "    print(model_i['tX_te'].shape)\n",
    "    print(model_i['te_id'].shape)\n",
    "\n",
    "    scores = []\n",
    "    nSample, nFeature = model_i['tX_tr'].shape\n",
    "\n",
    "    print('ridge regression')\n",
    "    tX_newfeat = generate_features(model_i['tX_tr'], degree)\n",
    "    w,_ = ridge_regression(model_i['y_tr'], tX_newfeat, best_param[i])\n",
    "    \n",
    "    seed = 1\n",
    "    k_fold = 4\n",
    "\n",
    "    # split data in k fold\n",
    "    k_indices = build_k_indices(model_i['y_tr'], k_fold, seed)\n",
    "    for k in range(k_fold):\n",
    "        _,_,accuracy = cross_validation(y, tX_newfeat, k_indices, k, best_param[i])\n",
    "        accuracy *= 100\n",
    "        f_scores.append(accuracy)\n",
    "        pred = predict_labels(w, tX_newfeat)\n",
    "        ids_final = np.append(ids_final, model_i['te_id'])\n",
    "        y_final = np.append(y_final, pred)\n",
    "    \n",
    "    \n",
    "f_scores"
   ]
  },
  {
   "cell_type": "code",
   "execution_count": null,
   "metadata": {},
   "outputs": [],
   "source": [
    "create_csv_submission(ids_final, y_final, \"final_submission.csv\")"
   ]
  },
  {
   "cell_type": "code",
   "execution_count": null,
   "metadata": {},
   "outputs": [],
   "source": []
  }
 ],
 "metadata": {
  "kernelspec": {
   "display_name": "Python [default]",
   "language": "python",
   "name": "python3"
  },
  "language_info": {
   "codemirror_mode": {
    "name": "ipython",
    "version": 3
   },
   "file_extension": ".py",
   "mimetype": "text/x-python",
   "name": "python",
   "nbconvert_exporter": "python",
   "pygments_lexer": "ipython3",
   "version": "3.7.0"
  }
 },
 "nbformat": 4,
 "nbformat_minor": 2
}
